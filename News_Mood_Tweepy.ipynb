{
 "cells": [
  {
   "cell_type": "markdown",
   "metadata": {
    "collapsed": true
   },
   "source": [
    "Analysis:\n",
    "\n",
    "    -Fox News is the most negative news source overall. With a compount sentiment of -0.15, it is the only news source to have a negative compount score\n",
    "    -CBS has the most overall positive score. With +0.16, the BBC is the only news source that comes close with a +0.12. \n",
    "    -Though all of the results mentioned above can be easily seen in the bar grapg, looking at the scatter plot yields less revealing results, with the news sources' sentiments being scattered all over without any real trends based on that graph."
   ]
  },
  {
   "cell_type": "code",
   "execution_count": null,
   "metadata": {
    "collapsed": true
   },
   "outputs": [],
   "source": [
    "#Dependencies\n",
    "import tweepy\n",
    "import json\n",
    "import pandas as pd\n",
    "import numpy as np\n",
    "import matplotlib.pyplot as plt\n",
    "import datetime\n",
    "import time\n",
    "import seaborn as sns\n",
    "from config import consumer_key, consumer_secret, access_token, access_token_secret\n",
    "\n",
    "#Start Vader Sentiment Analyzer\n",
    "from vaderSentiment.vaderSentiment import SentimentIntensityAnalyzer\n",
    "analyzer = SentimentIntensityAnalyzer()"
   ]
  },
  {
   "cell_type": "code",
   "execution_count": 2,
   "metadata": {
    "collapsed": true
   },
   "outputs": [],
   "source": [
    "#API Authentication\n",
    "auth = tweepy.OAuthHandler(consumer_key, consumer_secret)\n",
    "auth.set_access_token(access_token, access_token_secret)\n",
    "api = tweepy.API(auth, parser=tweepy.parsers.JSONParser())"
   ]
  },
  {
   "cell_type": "code",
   "execution_count": 3,
   "metadata": {
    "collapsed": true
   },
   "outputs": [],
   "source": [
    "# Variables for holding sentiments\n",
    "results_list = []\n",
    "\n",
    "# Target User\n",
    "target_user = [\"@CNN\",\"@BBC\",\"@CBS\",\"@FoxNews\",\"@nytimes\"]"
   ]
  },
  {
   "cell_type": "code",
   "execution_count": 4,
   "metadata": {},
   "outputs": [
    {
     "name": "stdout",
     "output_type": "stream",
     "text": [
      "Complete!\n"
     ]
    }
   ],
   "source": [
    "\n",
    "# Loop through 5 pages of tweets (total 100 tweets)\n",
    "for user  in target_user:  \n",
    "    \n",
    "    tweet_count = 100\n",
    "    \n",
    "    # Loop through each user\n",
    "    for x in range(5):    \n",
    "        \n",
    "        # Get all tweets from home feed\n",
    "        public_tweets = api.user_timeline(user, page = x)\n",
    "        \n",
    "        # Loop through all tweets\n",
    "        for tweet in public_tweets:\n",
    "\n",
    "            #Run vader analysis on each tweet\n",
    "            compound = analyzer.polarity_scores(tweet[\"text\"])[\"compound\"]\n",
    "            pos = analyzer.polarity_scores(tweet[\"text\"])[\"pos\"]\n",
    "            neu = analyzer.polarity_scores(tweet[\"text\"])[\"neu\"]\n",
    "            neg = analyzer.polarity_scores(tweet[\"text\"])[\"neg\"]\n",
    "\n",
    "            results_list.append({\n",
    "                                \"News Source\": user,\n",
    "                                \"Timestamp\": tweet[\"created_at\"],\n",
    "                                \"Compound\": compound,\n",
    "                                \"Positive\": pos,\n",
    "                                \"Neutral\": neg,\n",
    "                                \"Negative\": neu,\n",
    "                                \"Tweets Ago\": tweet_count,\n",
    "                                \"Tweet Text\": tweet[\"text\"]\n",
    "                                })\n",
    "            \n",
    "            tweet_count -= 1\n",
    "\n",
    "print(\"Complete!\")\n"
   ]
  },
  {
   "cell_type": "code",
   "execution_count": 5,
   "metadata": {},
   "outputs": [
    {
     "data": {
      "text/html": [
       "<div>\n",
       "<style>\n",
       "    .dataframe thead tr:only-child th {\n",
       "        text-align: right;\n",
       "    }\n",
       "\n",
       "    .dataframe thead th {\n",
       "        text-align: left;\n",
       "    }\n",
       "\n",
       "    .dataframe tbody tr th {\n",
       "        vertical-align: top;\n",
       "    }\n",
       "</style>\n",
       "<table border=\"1\" class=\"dataframe\">\n",
       "  <thead>\n",
       "    <tr style=\"text-align: right;\">\n",
       "      <th></th>\n",
       "      <th>Compound</th>\n",
       "      <th>Negative</th>\n",
       "      <th>Neutral</th>\n",
       "      <th>News Source</th>\n",
       "      <th>Positive</th>\n",
       "      <th>Timestamp</th>\n",
       "      <th>Tweet Text</th>\n",
       "      <th>Tweets Ago</th>\n",
       "    </tr>\n",
       "  </thead>\n",
       "  <tbody>\n",
       "    <tr>\n",
       "      <th>0</th>\n",
       "      <td>0.0000</td>\n",
       "      <td>1.000</td>\n",
       "      <td>0.000</td>\n",
       "      <td>@CNN</td>\n",
       "      <td>0.000</td>\n",
       "      <td>Sun Jul 22 00:30:00 +0000 2018</td>\n",
       "      <td>Watch this massive cargo plane pull off a loop...</td>\n",
       "      <td>100</td>\n",
       "    </tr>\n",
       "    <tr>\n",
       "      <th>1</th>\n",
       "      <td>0.0000</td>\n",
       "      <td>1.000</td>\n",
       "      <td>0.000</td>\n",
       "      <td>@CNN</td>\n",
       "      <td>0.000</td>\n",
       "      <td>Sun Jul 22 00:15:05 +0000 2018</td>\n",
       "      <td>New photo of Prince George released to mark hi...</td>\n",
       "      <td>99</td>\n",
       "    </tr>\n",
       "    <tr>\n",
       "      <th>2</th>\n",
       "      <td>-0.7184</td>\n",
       "      <td>0.543</td>\n",
       "      <td>0.337</td>\n",
       "      <td>@CNN</td>\n",
       "      <td>0.120</td>\n",
       "      <td>Sun Jul 22 00:00:14 +0000 2018</td>\n",
       "      <td>It is wrong, dangerous and un-American for Pre...</td>\n",
       "      <td>98</td>\n",
       "    </tr>\n",
       "    <tr>\n",
       "      <th>3</th>\n",
       "      <td>-0.4019</td>\n",
       "      <td>0.787</td>\n",
       "      <td>0.213</td>\n",
       "      <td>@CNN</td>\n",
       "      <td>0.000</td>\n",
       "      <td>Sat Jul 21 23:45:03 +0000 2018</td>\n",
       "      <td>All 13 passengers survive WWII-era plane crash...</td>\n",
       "      <td>97</td>\n",
       "    </tr>\n",
       "    <tr>\n",
       "      <th>4</th>\n",
       "      <td>0.8883</td>\n",
       "      <td>0.566</td>\n",
       "      <td>0.000</td>\n",
       "      <td>@CNN</td>\n",
       "      <td>0.434</td>\n",
       "      <td>Sat Jul 21 23:37:03 +0000 2018</td>\n",
       "      <td>Treasury Secretary Steven Mnuchin is \"very hop...</td>\n",
       "      <td>96</td>\n",
       "    </tr>\n",
       "  </tbody>\n",
       "</table>\n",
       "</div>"
      ],
      "text/plain": [
       "   Compound  Negative  Neutral News Source  Positive  \\\n",
       "0    0.0000     1.000    0.000        @CNN     0.000   \n",
       "1    0.0000     1.000    0.000        @CNN     0.000   \n",
       "2   -0.7184     0.543    0.337        @CNN     0.120   \n",
       "3   -0.4019     0.787    0.213        @CNN     0.000   \n",
       "4    0.8883     0.566    0.000        @CNN     0.434   \n",
       "\n",
       "                        Timestamp  \\\n",
       "0  Sun Jul 22 00:30:00 +0000 2018   \n",
       "1  Sun Jul 22 00:15:05 +0000 2018   \n",
       "2  Sun Jul 22 00:00:14 +0000 2018   \n",
       "3  Sat Jul 21 23:45:03 +0000 2018   \n",
       "4  Sat Jul 21 23:37:03 +0000 2018   \n",
       "\n",
       "                                          Tweet Text  Tweets Ago  \n",
       "0  Watch this massive cargo plane pull off a loop...         100  \n",
       "1  New photo of Prince George released to mark hi...          99  \n",
       "2  It is wrong, dangerous and un-American for Pre...          98  \n",
       "3  All 13 passengers survive WWII-era plane crash...          97  \n",
       "4  Treasury Secretary Steven Mnuchin is \"very hop...          96  "
      ]
     },
     "execution_count": 5,
     "metadata": {},
     "output_type": "execute_result"
    }
   ],
   "source": [
    "#Create a dataframe\n",
    "news_df = pd.DataFrame.from_dict(results_list)\n",
    "news_df.head()"
   ]
  },
  {
   "cell_type": "code",
   "execution_count": 11,
   "metadata": {},
   "outputs": [
    {
     "data": {
      "image/png": "[encoded data removed]",
      "text/plain": [
       "<matplotlib.figure.Figure at 0x1a1bd5f390>"
      ]
     },
     "metadata": {},
     "output_type": "display_data"
    }
   ],
   "source": [
    "#Plot scatterplot graph.\n",
    "\n",
    "# Set the x limit,\n",
    "plt.xlim(101, -1)\n",
    "\n",
    "#plot scatterplot\n",
    "bbc_df = news_df.loc[news_df[\"News Source\"] == '@BBC']\n",
    "plt.scatter(bbc_df[\"Tweets Ago\"],bbc_df[\"Compound\"],label='BBC', color='lightblue')\n",
    "\n",
    "cbs_df = news_df.loc[news_df[\"News Source\"] == '@CBS']\n",
    "plt.scatter(cbs_df[\"Tweets Ago\"],cbs_df[\"Compound\"],label='CBS', color='green')\n",
    "\n",
    "cnn_df = news_df.loc[news_df[\"News Source\"] == '@CNN']\n",
    "plt.scatter(cnn_df[\"Tweets Ago\"],cnn_df[\"Compound\"],label='CNN', color='red')\n",
    "\n",
    "fox_df = news_df.loc[news_df[\"News Source\"] == '@FoxNews']\n",
    "plt.scatter(fox_df[\"Tweets Ago\"],fox_df[\"Compound\"],label='FoxNEws', color='blue')\n",
    "\n",
    "nyt_df = news_df.loc[news_df[\"News Source\"] == '@nytimes']\n",
    "plt.scatter(nyt_df[\"Tweets Ago\"],nyt_df[\"Compound\"],label='NYTimes', color='yellow')\n",
    "    \n",
    "#Add legend\n",
    "plt.legend(bbox_to_anchor = (1,1))\n",
    "\n",
    "#Add title, x axis label, and y axis label.\n",
    "plt.title(\"Sentiment Analysis of Media Tweets\")\n",
    "plt.xlabel(\"Tweets Ago\")\n",
    "plt.ylabel(\"Tweet Polarity\")\n",
    "\n",
    "#Set a grid on the plot.\n",
    "plt.grid(True)\n",
    "\n",
    "plt.savefig(\"Files/Sentiment Analysis of Media Tweets.png\")\n",
    "plt.show()"
   ]
  },
  {
   "cell_type": "code",
   "execution_count": 13,
   "metadata": {},
   "outputs": [
    {
     "data": {
      "text/plain": [
       "News Source\n",
       "@BBC        0.122759\n",
       "@CBS        0.157106\n",
       "@CNN        0.028490\n",
       "@FoxNews   -0.154804\n",
       "@nytimes    0.057311\n",
       "Name: Compound, dtype: float64"
      ]
     },
     "execution_count": 13,
     "metadata": {},
     "output_type": "execute_result"
    }
   ],
   "source": [
    "avg_sent = news_df.groupby(\"News Source\")[\"Compound\"].mean()\n",
    "avg_sent"
   ]
  },
  {
   "cell_type": "code",
   "execution_count": 25,
   "metadata": {},
   "outputs": [
    {
     "data": {
      "image/png": "[encoded data removed]",
      "text/plain": [
       "<matplotlib.figure.Figure at 0x1a1c4255f8>"
      ]
     },
     "metadata": {},
     "output_type": "display_data"
    }
   ],
   "source": [
    "# Set the values for x_axis & y_axis# Set th \n",
    "x_axis = avg_sent.index.values\n",
    "y_axis = news_df[\"Compound\"].mean()\n",
    "count = 0\n",
    "for sent in avg_sent:\n",
    "    plt.text(count, sent +.01, str(round(sent,2)))\n",
    "    count = count + 1\n",
    "plt.bar(x_axis, avg_sent, tick_label = xlabels, color = ['r', 'b', 'y', 'g', 'c'], edgecolor=['black']*len(x_axis))\n",
    "\n",
    "#Set title, x axis label, and y axis label.\n",
    "plt.title(\"Overall Sentiment of News Tweets\")\n",
    "plt.xlabel(\"News Source\")\n",
    "plt.ylabel(\"Tweet Polarity\")\n",
    "\n",
    "plt.savefig(\"Files/Overall Sentiment of News Tweets.png\")\n",
    "plt.show()"
   ]
  },
  {
   "cell_type": "code",
   "execution_count": null,
   "metadata": {
    "collapsed": true
   },
   "outputs": [],
   "source": []
  }
 ],
 "metadata": {
  "kernelspec": {
   "display_name": "Python 3",
   "language": "python",
   "name": "python3"
  },
  "language_info": {
   "codemirror_mode": {
    "name": "ipython",
    "version": 3
   },
   "file_extension": ".py",
   "mimetype": "text/x-python",
   "name": "python",
   "nbconvert_exporter": "python",
   "pygments_lexer": "ipython3",
   "version": "3.6.3"
  }
 },
 "nbformat": 4,
 "nbformat_minor": 2
}
